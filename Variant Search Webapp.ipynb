{
 "cells": [
  {
   "cell_type": "markdown",
   "metadata": {},
   "source": [
    "Script to parse headers in variants.tsv file. "
   ]
  },
  {
   "cell_type": "code",
   "execution_count": 1,
   "metadata": {},
   "outputs": [
    {
     "name": "stdout",
     "output_type": "stream",
     "text": [
      "Gene\n",
      "Nucleotide Change\n",
      "Protein Change\n",
      "Other Mappings\n",
      "Alias\n",
      "Transcripts\n",
      "Region\n",
      "Reported Classification\n",
      "Inferred Classification\n",
      "Source\n",
      "Last Evaluated\n",
      "Last Updated\n",
      "URL\n",
      "Submitter Comment\n",
      "Assembly\n",
      "Chr\n",
      "Genomic Start\n",
      "Genomic Stop\n",
      "Ref\n",
      "Alt\n",
      "Accession\n",
      "Reported Ref\n",
      "Reported Alt\n"
     ]
    }
   ],
   "source": [
    "import pandas as pd\n",
    "import numpy as np\n",
    "\n",
    "file = 'variants.tsv'\n",
    "file_data = pd.read_table(file,sep='\\t')\n",
    "# file_data.head()\n",
    "for data in file_data:\n",
    "    print(data)"
   ]
  },
  {
   "cell_type": "code",
   "execution_count": null,
   "metadata": {},
   "outputs": [],
   "source": [
    "import pandas as pd\n",
    "import numpy as np\n",
    "\n",
    "file = 'variants.tsv'\n",
    "file_data = pd.read_table(file,sep='\\t')\n",
    "file_data.head(48515)"
   ]
  }
 ],
 "metadata": {
  "kernelspec": {
   "display_name": "Python 3",
   "language": "python",
   "name": "python3"
  },
  "language_info": {
   "codemirror_mode": {
    "name": "ipython",
    "version": 3
   },
   "file_extension": ".py",
   "mimetype": "text/x-python",
   "name": "python",
   "nbconvert_exporter": "python",
   "pygments_lexer": "ipython3",
   "version": "3.7.1"
  }
 },
 "nbformat": 4,
 "nbformat_minor": 2
}
