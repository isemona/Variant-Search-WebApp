{
 "cells": [
  {
   "cell_type": "markdown",
   "metadata": {},
   "source": [
    "Script to parse headers in variants.tsv file. "
   ]
  },
  {
   "cell_type": "code",
   "execution_count": 1,
   "metadata": {},
   "outputs": [
    {
     "name": "stdout",
     "output_type": "stream",
     "text": [
      "Gene\n",
      "Nucleotide Change\n",
      "Protein Change\n",
      "Other Mappings\n",
      "Alias\n",
      "Transcripts\n",
      "Region\n",
      "Reported Classification\n",
      "Inferred Classification\n",
      "Source\n",
      "Last Evaluated\n",
      "Last Updated\n",
      "URL\n",
      "Submitter Comment\n",
      "Assembly\n",
      "Chr\n",
      "Genomic Start\n",
      "Genomic Stop\n",
      "Ref\n",
      "Alt\n",
      "Accession\n",
      "Reported Ref\n",
      "Reported Alt\n"
     ]
    }
   ],
   "source": [
    "# these are the headers\n",
    "import pandas as pd\n",
    "import numpy as np\n",
    "\n",
    "file = 'variants.tsv'\n",
    "file_data = pd.read_table(file,sep='\\t')\n",
    "# file_data.head()\n",
    "for data in file_data:\n",
    "    print(data)"
   ]
  },
  {
   "cell_type": "markdown",
   "metadata": {},
   "source": [
    "What should I do with gene's that show up as NaN or blank on file?"
   ]
  },
  {
   "cell_type": "code",
   "execution_count": 1,
   "metadata": {},
   "outputs": [
    {
     "name": "stdout",
     "output_type": "stream",
     "text": [
      "0            CDKL5\n",
      "1            PGAM4\n",
      "2            WDR25\n",
      "3              RHD\n",
      "4            AMY1A\n",
      "5            CFHR4\n",
      "6             RTP5\n",
      "7              NaN\n",
      "8            AADAC\n",
      "9        LINC02267\n",
      "10             NaN\n",
      "11             NaN\n",
      "12             NaN\n",
      "13        KCCAT333\n",
      "14             NaN\n",
      "15             NaN\n",
      "16             NaN\n",
      "17         SLC2A14\n",
      "18             NaN\n",
      "19             NaN\n",
      "20           NIPA1\n",
      "21          MPV17L\n",
      "22            EMC6\n",
      "23             NaN\n",
      "24             NaN\n",
      "25            PSG4\n",
      "26             NaN\n",
      "27            TJP2\n",
      "28           MERTK\n",
      "29         RPGRIP1\n",
      "           ...    \n",
      "48485          ENG\n",
      "48486          ENG\n",
      "48487          ENG\n",
      "48488          ENG\n",
      "48489          ENG\n",
      "48490          ENG\n",
      "48491          ENG\n",
      "48492          ENG\n",
      "48493          ENG\n",
      "48494          ENG\n",
      "48495          ENG\n",
      "48496          ENG\n",
      "48497          ENG\n",
      "48498          ENG\n",
      "48499          ENG\n",
      "48500          ENG\n",
      "48501          ENG\n",
      "48502          ENG\n",
      "48503          ENG\n",
      "48504          ENG\n",
      "48505          ENG\n",
      "48506          ENG\n",
      "48507          ENG\n",
      "48508          ENG\n",
      "48509          ENG\n",
      "48510          ENG\n",
      "48511          ENG\n",
      "48512          ENG\n",
      "48513          ENG\n",
      "48514          ENG\n",
      "Name: Gene, Length: 48515, dtype: object\n"
     ]
    }
   ],
   "source": [
    "import pandas as pd\n",
    "import numpy as np\n",
    "\n",
    "file = 'variants.tsv'\n",
    "file_data = pd.read_table(file,sep='\\t')\n",
    "print(file_data['Gene'])"
   ]
  },
  {
   "cell_type": "code",
   "execution_count": null,
   "metadata": {},
   "outputs": [],
   "source": [
    "import pandas as pd\n",
    "import numpy as np\n",
    "\n",
    "file = 'variants.tsv'\n",
    "file_data = pd.read_table(file,sep='\\t')\n",
    "file_data.head(48515)"
   ]
  }
 ],
 "metadata": {
  "kernelspec": {
   "display_name": "Python 3",
   "language": "python",
   "name": "python3"
  },
  "language_info": {
   "codemirror_mode": {
    "name": "ipython",
    "version": 3
   },
   "file_extension": ".py",
   "mimetype": "text/x-python",
   "name": "python",
   "nbconvert_exporter": "python",
   "pygments_lexer": "ipython3",
   "version": "3.7.1"
  }
 },
 "nbformat": 4,
 "nbformat_minor": 2
}
